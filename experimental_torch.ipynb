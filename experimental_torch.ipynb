{
 "cells": [
  {
   "cell_type": "code",
   "execution_count": 11,
   "id": "5f5f74ff",
   "metadata": {},
   "outputs": [],
   "source": [
    "import torch\n",
    "import torch.nn as nn\n",
    "from torch.nn.parameter import Parameter\n"
   ]
  },
  {
   "cell_type": "code",
   "execution_count": 2,
   "id": "bab1c8e0",
   "metadata": {},
   "outputs": [],
   "source": [
    "z_dim = 64 # size of hidden network\n",
    "f_size = 3 #f x f = size of filter\n",
    "out_size = 16 #n out\n",
    "in_size = 16 # n in"
   ]
  },
  {
   "cell_type": "code",
   "execution_count": 8,
   "id": "9aaa240f",
   "metadata": {},
   "outputs": [
    {
     "data": {
      "text/plain": [
       "torch.Size([64, 144])"
      ]
     },
     "execution_count": 8,
     "metadata": {},
     "output_type": "execute_result"
    }
   ],
   "source": [
    "torch.fmod(torch.randn((z_dim, out_size*f_size*f_size)),2).shape"
   ]
  },
  {
   "cell_type": "code",
   "execution_count": 9,
   "id": "a7e40652",
   "metadata": {},
   "outputs": [
    {
     "data": {
      "text/plain": [
       "tensor([[ 0.0703, -1.4856,  0.2479,  ..., -0.3749,  0.4192, -1.4081],\n",
       "        [-0.2227, -1.0392, -0.3760,  ...,  0.7645, -0.6861,  1.7092],\n",
       "        [-0.1460,  0.0468,  0.0946,  ..., -0.8690,  1.1771, -0.7853],\n",
       "        ...,\n",
       "        [ 0.1372, -0.0980, -0.5430,  ..., -1.3790,  0.3250, -0.3281],\n",
       "        [-1.2242,  0.8323, -0.5148,  ...,  1.3558,  0.1761,  0.0818],\n",
       "        [ 0.1265,  0.4691,  1.7454,  ...,  0.3715,  0.3600, -1.0550]])"
      ]
     },
     "execution_count": 9,
     "metadata": {},
     "output_type": "execute_result"
    }
   ],
   "source": [
    "torch.fmod(torch.randn((z_dim, out_size*f_size*f_size)),2)"
   ]
  },
  {
   "cell_type": "code",
   "execution_count": 13,
   "id": "991a3609",
   "metadata": {},
   "outputs": [
    {
     "data": {
      "text/plain": [
       "Parameter containing:\n",
       "tensor([[-0.7387,  0.2444, -0.7003,  ...,  0.3713,  1.7027, -0.8824],\n",
       "        [ 0.2957, -0.3498,  0.0460,  ...,  0.3695,  0.3559, -0.5695],\n",
       "        [ 0.7016,  0.5133,  0.0989,  ..., -0.8251, -1.9940, -0.7673],\n",
       "        ...,\n",
       "        [-0.1161, -0.1865,  0.8399,  ...,  0.8793,  1.3347, -0.2941],\n",
       "        [ 0.0791, -0.3437,  0.9107,  ..., -0.7575, -0.7236,  1.0921],\n",
       "        [-0.0144, -0.1513,  1.3502,  ...,  0.6208, -0.5305, -0.7822]],\n",
       "       requires_grad=True)"
      ]
     },
     "execution_count": 13,
     "metadata": {},
     "output_type": "execute_result"
    }
   ],
   "source": [
    "w2 = Parameter(torch.fmod(torch.randn((z_dim, in_size*z_dim)),2))\n",
    "w2"
   ]
  },
  {
   "cell_type": "code",
   "execution_count": 16,
   "id": "a99faa4e",
   "metadata": {},
   "outputs": [
    {
     "data": {
      "text/plain": [
       "torch.Size([64, 1024])"
      ]
     },
     "execution_count": 16,
     "metadata": {},
     "output_type": "execute_result"
    }
   ],
   "source": [
    "w2.shape"
   ]
  },
  {
   "cell_type": "code",
   "execution_count": 14,
   "id": "299e0d8b",
   "metadata": {},
   "outputs": [
    {
     "data": {
      "text/plain": [
       "Parameter containing:\n",
       "tensor([-0.5481, -0.4595,  0.2472,  ..., -0.5857,  0.4291,  0.3004],\n",
       "       requires_grad=True)"
      ]
     },
     "execution_count": 14,
     "metadata": {},
     "output_type": "execute_result"
    }
   ],
   "source": [
    "b2 = Parameter(torch.fmod(torch.randn((in_size*z_dim)),2))\n",
    "b2"
   ]
  },
  {
   "cell_type": "code",
   "execution_count": 18,
   "id": "b332ca9e",
   "metadata": {},
   "outputs": [
    {
     "data": {
      "text/plain": [
       "tensor([[-0.5481, -0.4595,  0.2472,  ..., -0.4045, -0.1659, -1.0828],\n",
       "        [ 0.6983,  0.2274,  0.3918,  ..., -1.7585, -1.1770,  0.6894],\n",
       "        [-0.3160, -0.8322, -1.7753,  ...,  0.6724,  0.0499,  0.4677],\n",
       "        ...,\n",
       "        [ 1.0175,  0.2681,  0.0362,  ...,  0.8128, -0.6224,  1.3235],\n",
       "        [-1.1136,  1.1548, -0.3572,  ..., -1.2950, -1.5725, -0.0117],\n",
       "        [-1.3484,  0.1052,  0.0677,  ..., -0.5857,  0.4291,  0.3004]],\n",
       "       grad_fn=<ViewBackward0>)"
      ]
     },
     "execution_count": 18,
     "metadata": {},
     "output_type": "execute_result"
    }
   ],
   "source": [
    "b2.view(in_size,z_dim)"
   ]
  },
  {
   "cell_type": "code",
   "execution_count": 19,
   "id": "ba59fd99",
   "metadata": {},
   "outputs": [
    {
     "data": {
      "text/plain": [
       "torch.Size([1024])"
      ]
     },
     "execution_count": 19,
     "metadata": {},
     "output_type": "execute_result"
    }
   ],
   "source": [
    "b2.shape"
   ]
  },
  {
   "cell_type": "code",
   "execution_count": 20,
   "id": "550dc8e3",
   "metadata": {},
   "outputs": [
    {
     "data": {
      "text/plain": [
       "torch.Size([16, 64])"
      ]
     },
     "execution_count": 20,
     "metadata": {},
     "output_type": "execute_result"
    }
   ],
   "source": [
    "b2.view(in_size,z_dim).shape"
   ]
  },
  {
   "cell_type": "code",
   "execution_count": null,
   "id": "2e5f91a2",
   "metadata": {},
   "outputs": [],
   "source": []
  }
 ],
 "metadata": {
  "kernelspec": {
   "display_name": "Python 3 (ipykernel)",
   "language": "python",
   "name": "python3"
  },
  "language_info": {
   "codemirror_mode": {
    "name": "ipython",
    "version": 3
   },
   "file_extension": ".py",
   "mimetype": "text/x-python",
   "name": "python",
   "nbconvert_exporter": "python",
   "pygments_lexer": "ipython3",
   "version": "3.9.7"
  }
 },
 "nbformat": 4,
 "nbformat_minor": 5
}
